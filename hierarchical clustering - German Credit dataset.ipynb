{
 "cells": [
  {
   "cell_type": "code",
   "execution_count": 1,
   "metadata": {},
   "outputs": [],
   "source": [
    "import pandas as pd\n",
    "import numpy as np\n",
    "import time\n",
    "import random\n",
    "\n",
    "from sklearn.model_selection import train_test_split\n",
    "from sklearn.metrics import mean_squared_error\n",
    "from sklearn.neighbors import DistanceMetric\n",
    "from sklearn_extra.cluster import KMedoids\n",
    "import matplotlib.pyplot as plt\n",
    "import statistics\n",
    "import pyclustering\n",
    "from pyclustering.cluster.kmedoids import kmedoids\n",
    "import gower\n",
    "import seaborn as sns\n",
    "import pyclustering\n",
    "from sklearn.metrics.pairwise import pairwise_distances\n",
    "from pyclustering.cluster import cluster_visualizer\n",
    "from pyclustering.cluster.center_initializer import kmeans_plusplus_initializer\n",
    "from pyclustering.cluster.kmedoids import kmedoids"
   ]
  },
  {
   "cell_type": "markdown",
   "metadata": {},
   "source": [
    "# Read dataset"
   ]
  },
  {
   "cell_type": "code",
   "execution_count": 2,
   "metadata": {},
   "outputs": [
    {
     "data": {
      "text/html": [
       "<div>\n",
       "<style scoped>\n",
       "    .dataframe tbody tr th:only-of-type {\n",
       "        vertical-align: middle;\n",
       "    }\n",
       "\n",
       "    .dataframe tbody tr th {\n",
       "        vertical-align: top;\n",
       "    }\n",
       "\n",
       "    .dataframe thead th {\n",
       "        text-align: right;\n",
       "    }\n",
       "</style>\n",
       "<table border=\"1\" class=\"dataframe\">\n",
       "  <thead>\n",
       "    <tr style=\"text-align: right;\">\n",
       "      <th></th>\n",
       "      <th>Age</th>\n",
       "      <th>Sex</th>\n",
       "      <th>Job</th>\n",
       "      <th>Housing</th>\n",
       "      <th>Saving accounts</th>\n",
       "      <th>Checking account</th>\n",
       "      <th>Credit amount</th>\n",
       "      <th>Duration</th>\n",
       "      <th>Purpose</th>\n",
       "      <th>label</th>\n",
       "    </tr>\n",
       "  </thead>\n",
       "  <tbody>\n",
       "    <tr>\n",
       "      <th>0</th>\n",
       "      <td>67</td>\n",
       "      <td>male</td>\n",
       "      <td>2</td>\n",
       "      <td>own</td>\n",
       "      <td>unknown</td>\n",
       "      <td>little</td>\n",
       "      <td>1169</td>\n",
       "      <td>6</td>\n",
       "      <td>radio/TV</td>\n",
       "      <td>1</td>\n",
       "    </tr>\n",
       "    <tr>\n",
       "      <th>1</th>\n",
       "      <td>22</td>\n",
       "      <td>female</td>\n",
       "      <td>2</td>\n",
       "      <td>own</td>\n",
       "      <td>little</td>\n",
       "      <td>moderate</td>\n",
       "      <td>5951</td>\n",
       "      <td>48</td>\n",
       "      <td>radio/TV</td>\n",
       "      <td>0</td>\n",
       "    </tr>\n",
       "    <tr>\n",
       "      <th>2</th>\n",
       "      <td>49</td>\n",
       "      <td>male</td>\n",
       "      <td>1</td>\n",
       "      <td>own</td>\n",
       "      <td>little</td>\n",
       "      <td>unknown</td>\n",
       "      <td>2096</td>\n",
       "      <td>12</td>\n",
       "      <td>education</td>\n",
       "      <td>1</td>\n",
       "    </tr>\n",
       "    <tr>\n",
       "      <th>3</th>\n",
       "      <td>45</td>\n",
       "      <td>male</td>\n",
       "      <td>2</td>\n",
       "      <td>free</td>\n",
       "      <td>little</td>\n",
       "      <td>little</td>\n",
       "      <td>7882</td>\n",
       "      <td>42</td>\n",
       "      <td>furniture/equipment</td>\n",
       "      <td>1</td>\n",
       "    </tr>\n",
       "    <tr>\n",
       "      <th>4</th>\n",
       "      <td>53</td>\n",
       "      <td>male</td>\n",
       "      <td>2</td>\n",
       "      <td>free</td>\n",
       "      <td>little</td>\n",
       "      <td>little</td>\n",
       "      <td>4870</td>\n",
       "      <td>24</td>\n",
       "      <td>car</td>\n",
       "      <td>0</td>\n",
       "    </tr>\n",
       "  </tbody>\n",
       "</table>\n",
       "</div>"
      ],
      "text/plain": [
       "   Age     Sex  Job Housing Saving accounts Checking account  Credit amount  \\\n",
       "0   67    male    2     own         unknown           little           1169   \n",
       "1   22  female    2     own          little         moderate           5951   \n",
       "2   49    male    1     own          little          unknown           2096   \n",
       "3   45    male    2    free          little           little           7882   \n",
       "4   53    male    2    free          little           little           4870   \n",
       "\n",
       "   Duration              Purpose  label  \n",
       "0         6             radio/TV      1  \n",
       "1        48             radio/TV      0  \n",
       "2        12            education      1  \n",
       "3        42  furniture/equipment      1  \n",
       "4        24                  car      0  "
      ]
     },
     "execution_count": 2,
     "metadata": {},
     "output_type": "execute_result"
    }
   ],
   "source": [
    "df = pd.read_excel(\"german_credit_data.xlsx\")\n",
    "df['label'] = (df.Risk == 'good').astype(int)\n",
    "df.drop(['Unnamed: 0','Risk'],axis=1,inplace=True)\n",
    "df = df.replace(np.nan, 'unknown', regex=True)\n",
    "df.head()"
   ]
  },
  {
   "cell_type": "markdown",
   "metadata": {},
   "source": [
    "Below we define which features are categorical and which are numerical. "
   ]
  },
  {
   "cell_type": "code",
   "execution_count": 3,
   "metadata": {},
   "outputs": [],
   "source": [
    "#Create lists of categorical and numerical features\n",
    "num_features = ['Age','Credit amount','Duration']\n",
    "cat_features = ['Sex','Job','Housing','Saving accounts','Checking account','Purpose']\n",
    "all_features = ['Age','Credit amount','Duration','Sex','Job','Housing','Saving accounts','Checking account','Purpose']"
   ]
  },
  {
   "cell_type": "markdown",
   "metadata": {},
   "source": [
    "# k-medoids clustering"
   ]
  },
  {
   "cell_type": "code",
   "execution_count": 4,
   "metadata": {},
   "outputs": [],
   "source": [
    "#This function compute the Gower distance matrix\n",
    "# input: NxM feature matrix\n",
    "# output: NxN distance matrix \n",
    "\n",
    "def gower_distance(matrix):\n",
    "    output = gower.gower_matrix(matrix)\n",
    "    return output"
   ]
  },
  {
   "cell_type": "markdown",
   "metadata": {},
   "source": [
    "Below we define the feature matrix (X) and the lavel vector (y). We also choose the number of clusters k and initialize the first cluster. "
   ]
  },
  {
   "cell_type": "code",
   "execution_count": 5,
   "metadata": {},
   "outputs": [
    {
     "name": "stdout",
     "output_type": "stream",
     "text": [
      "training time: 1.638 s\n",
      "Final number of clusters: 32\n"
     ]
    }
   ],
   "source": [
    "X = df.loc[: , df.columns != 'label']\n",
    "y = df.loc[: , df.columns == 'label']\n",
    "k = 2 #number of clusters each clustering step\n",
    "l = 6 #number of layers; NOTE: first layer (\"layer 0\") is the whole dataset so always fill in #layers+1\n",
    "n = len(X)\n",
    "\n",
    "t0=time.time()\n",
    "\n",
    "dict_layers = {0:[X.index.tolist()]}\n",
    "dict_medoids = {0:[]}\n",
    "for i in np.arange(1,l):\n",
    "    dict_layers[i] = []\n",
    "    dict_medoids[i] = []\n",
    "\n",
    "\n",
    "for layer in np.arange(l-1): #iterate over layers\n",
    "    \n",
    "    for i in np.arange(k**layer): #iterate over clusters in layer \n",
    "        X_subset = X.loc[dict_layers[layer][i],:]\n",
    "        \n",
    "        index_book = {} #keep track of indices of cluster i\n",
    "        teller = 0 \n",
    "        for index in X_subset.index:\n",
    "            index_book[teller] = index\n",
    "            teller += 1\n",
    "        \n",
    "        X_subset = X_subset.reset_index(drop=True) #reset index of cluster i before cluster analysis\n",
    "        \n",
    "        initial_medoids = np.sort(random.sample(list(X_subset.index),k))\n",
    "        kmedoids_instance = kmedoids(gower_distance(X_subset),initial_medoids,data_type='distance_matrix',iter_max=1000)\n",
    "        kmedoids_instance.process()\n",
    "        clusters = kmedoids_instance.get_clusters()\n",
    "        centers = kmedoids_instance.get_medoids()\n",
    "    \n",
    "        for j in np.arange(k): #translate cluster index back to original\n",
    "            translated_cluster = []\n",
    "            for item in clusters[j]:\n",
    "                translated_cluster.append(index_book[item])\n",
    "            dict_medoids[layer+1].append(index_book[centers[j]])\n",
    "            dict_layers[layer+1].append(translated_cluster)\n",
    "\n",
    "final_clusters = dict_layers[l-1]\n",
    "final_medoids = dict_medoids[l-1]\n",
    "\n",
    "#sort the clusters, in this way we always obtain the same cluster numbers \n",
    "sort_clusters = final_clusters.copy()\n",
    "sort_clusters.sort(key=len)\n",
    "sort_centers = []\n",
    "for i in np.arange(k**(l-1)):\n",
    "    for j in np.arange(k**(l-1)):\n",
    "        if (sort_clusters[i] == final_clusters[j]):\n",
    "            sort_centers.append(final_medoids[j])\n",
    "            \n",
    "print(\"training time:\", round(time.time()-t0, 3), \"s\")\n",
    "print(\"Final number of clusters:\", len(sort_clusters))"
   ]
  },
  {
   "cell_type": "code",
   "execution_count": 6,
   "metadata": {},
   "outputs": [
    {
     "name": "stdout",
     "output_type": "stream",
     "text": [
      "---------------------------------------------------------------------------\n",
      "cluster  0 \t [197, 721] \n",
      " medoid  197\n",
      "---------------------------------------------------------------------------\n",
      "cluster  1 \t [63, 145, 887] \n",
      " medoid  887\n",
      "---------------------------------------------------------------------------\n",
      "cluster  2 \t [82, 391, 752] \n",
      " medoid  752\n",
      "---------------------------------------------------------------------------\n",
      "cluster  3 \t [194, 342, 470, 677] \n",
      " medoid  194\n",
      "---------------------------------------------------------------------------\n",
      "cluster  4 \t [249, 386, 660, 675, 817] \n",
      " medoid  249\n",
      "---------------------------------------------------------------------------\n",
      "cluster  5 \t [83, 429, 471, 573, 610, 640, 711, 722, 751] \n",
      " medoid  751\n",
      "---------------------------------------------------------------------------\n",
      "cluster  6 \t [108, 118, 166, 312, 319, 396, 441, 750, 771, 802] \n",
      " medoid  802\n",
      "---------------------------------------------------------------------------\n",
      "cluster  7 \t [168, 271, 296, 306, 333, 382, 420, 517, 557, 572, 724, 733, 767] \n",
      " medoid  382\n",
      "---------------------------------------------------------------------------\n",
      "cluster  8 \t [142, 152, 217, 230, 235, 477, 561, 639, 731, 789, 907, 951, 998] \n",
      " medoid  639\n",
      "---------------------------------------------------------------------------\n",
      "cluster  9 \t [6, 183, 190, 200, 237, 283, 354, 449, 628, 674, 754, 816, 830, 870] \n",
      " medoid  6\n",
      "---------------------------------------------------------------------------\n",
      "cluster  10 \t [87, 95, 163, 272, 287, 293, 310, 378, 395, 563, 788, 808, 829, 938] \n",
      " medoid  808\n",
      "---------------------------------------------------------------------------\n",
      "cluster  11 \t [14, 47, 111, 221, 337, 504, 591, 593, 736, 746, 775, 809, 831, 905, 922, 955] \n",
      " medoid  831\n",
      "---------------------------------------------------------------------------\n",
      "cluster  12 \t [103, 350, 372, 445, 462, 575, 582, 604, 614, 633, 700, 707, 768, 795, 797, 837, 865, 920] \n",
      " medoid  372\n",
      "---------------------------------------------------------------------------\n",
      "cluster  13 \t [0, 56, 61, 138, 188, 226, 254, 255, 388, 401, 435, 463, 493, 568, 616, 632, 686, 966, 970] \n",
      " medoid  435\n",
      "---------------------------------------------------------------------------\n",
      "cluster  14 \t [35, 126, 137, 220, 233, 307, 339, 478, 498, 574, 709, 713, 741, 762, 765, 782, 806, 811, 849, 957, 964, 989] \n",
      " medoid  220\n",
      "---------------------------------------------------------------------------\n",
      "cluster  15 \t [3, 25, 176, 199, 227, 277, 316, 335, 368, 380, 387, 397, 432, 479, 522, 589, 631, 659, 822, 899, 919, 924, 980] \n",
      " medoid  899\n",
      "---------------------------------------------------------------------------\n",
      "cluster  16 \t [73, 86, 167, 172, 189, 195, 215, 295, 301, 308, 317, 351, 374, 424, 444, 491, 537, 554, 601, 602, 728, 779, 790, 911] \n",
      " medoid  537\n",
      "---------------------------------------------------------------------------\n",
      "cluster  17 \t [12, 15, 116, 120, 261, 336, 393, 458, 480, 521, 524, 539, 548, 569, 576, 590, 612, 630, 777, 833, 834, 862, 866, 885, 931, 934] \n",
      " medoid  866\n",
      "---------------------------------------------------------------------------\n",
      "cluster  18 \t [11, 59, 117, 124, 155, 341, 353, 359, 367, 369, 375, 417, 466, 475, 482, 570, 585, 618, 623, 727, 739, 761, 869, 896, 926, 944, 985, 992] \n",
      " medoid  761\n",
      "---------------------------------------------------------------------------\n",
      "cluster  19 \t [26, 46, 81, 90, 149, 150, 234, 241, 246, 400, 427, 486, 527, 533, 551, 571, 592, 669, 683, 710, 726, 729, 769, 773, 786, 839, 891, 904, 921, 933] \n",
      " medoid  400\n",
      "---------------------------------------------------------------------------\n",
      "cluster  20 \t [7, 9, 32, 42, 51, 99, 105, 107, 112, 154, 181, 236, 291, 320, 328, 343, 431, 507, 525, 564, 597, 615, 653, 684, 706, 714, 719, 784, 893, 986, 999] \n",
      " medoid  51\n",
      "---------------------------------------------------------------------------\n",
      "cluster  21 \t [4, 43, 44, 72, 75, 205, 242, 262, 292, 322, 330, 392, 457, 501, 538, 545, 560, 624, 650, 655, 678, 701, 796, 814, 828, 832, 853, 876, 878, 927, 973, 988] \n",
      " medoid  4\n",
      "---------------------------------------------------------------------------\n",
      "cluster  22 \t [45, 70, 113, 121, 144, 147, 161, 219, 244, 258, 263, 300, 324, 327, 331, 362, 379, 418, 437, 455, 468, 487, 523, 546, 603, 647, 667, 697, 705, 725, 734, 897, 908, 953, 982] \n",
      " medoid  324\n",
      "---------------------------------------------------------------------------\n",
      "cluster  23 \t [28, 39, 41, 60, 77, 98, 101, 110, 127, 173, 177, 207, 257, 265, 273, 329, 346, 349, 405, 407, 447, 474, 502, 503, 513, 540, 555, 663, 692, 696, 720, 730, 780, 810, 819, 821, 848, 935, 937] \n",
      " medoid  696\n",
      "---------------------------------------------------------------------------\n",
      "cluster  24 \t [17, 31, 79, 89, 93, 143, 148, 174, 203, 208, 218, 229, 260, 315, 323, 334, 338, 364, 434, 460, 495, 496, 542, 558, 587, 605, 620, 646, 690, 743, 744, 745, 766, 840, 872, 874, 918, 930, 946, 959, 993] \n",
      " medoid  558\n",
      "---------------------------------------------------------------------------\n",
      "cluster  25 \t [1, 10, 18, 58, 129, 130, 141, 146, 153, 186, 250, 252, 332, 340, 347, 381, 410, 419, 515, 531, 536, 556, 565, 595, 607, 611, 634, 658, 691, 704, 735, 747, 783, 804, 815, 858, 875, 909, 912, 915, 945, 952, 954, 965] \n",
      " medoid  252\n",
      "---------------------------------------------------------------------------\n",
      "cluster  26 \t [33, 65, 78, 96, 175, 198, 266, 294, 297, 302, 326, 352, 360, 370, 373, 404, 406, 514, 549, 584, 609, 622, 629, 642, 685, 703, 712, 715, 760, 787, 791, 798, 846, 851, 868, 881, 882, 889, 901, 902, 939, 940, 947, 977, 994] \n",
      " medoid  851\n",
      "---------------------------------------------------------------------------\n",
      "cluster  27 \t [5, 8, 16, 19, 24, 40, 50, 71, 115, 159, 160, 191, 210, 214, 223, 232, 253, 269, 279, 282, 356, 361, 377, 408, 467, 473, 519, 534, 567, 577, 625, 645, 657, 666, 681, 688, 716, 742, 757, 792, 803, 807, 845, 879, 886, 894, 898, 903, 928, 942, 949, 956, 963, 968, 990, 991] \n",
      " medoid  625\n",
      "---------------------------------------------------------------------------\n",
      "cluster  28 \t [23, 30, 37, 38, 54, 62, 67, 94, 97, 109, 119, 123, 128, 158, 169, 184, 187, 192, 213, 284, 299, 309, 313, 344, 355, 398, 421, 422, 425, 442, 481, 485, 506, 530, 553, 559, 578, 580, 581, 583, 626, 627, 641, 648, 651, 656, 687, 699, 756, 774, 785, 793, 799, 871, 884, 923, 950, 961, 979] \n",
      " medoid  184\n",
      "---------------------------------------------------------------------------\n",
      "cluster  29 \t [27, 34, 49, 57, 64, 66, 69, 80, 85, 92, 102, 134, 135, 139, 171, 196, 211, 238, 243, 251, 259, 267, 276, 278, 288, 345, 385, 389, 399, 439, 448, 451, 483, 492, 526, 550, 562, 600, 636, 638, 664, 679, 680, 702, 708, 723, 732, 753, 801, 836, 842, 856, 873, 883, 910, 936, 967, 974, 975, 976, 987, 995] \n",
      " medoid  238\n",
      "---------------------------------------------------------------------------\n",
      "cluster  30 \t [13, 21, 22, 29, 74, 76, 84, 88, 91, 114, 125, 131, 156, 157, 170, 179, 182, 201, 212, 216, 239, 240, 268, 274, 285, 286, 289, 303, 321, 325, 414, 416, 438, 446, 454, 456, 461, 465, 472, 494, 500, 510, 516, 518, 528, 529, 552, 566, 586, 588, 594, 596, 613, 617, 644, 649, 652, 661, 668, 689, 693, 718, 737, 740, 755, 759, 770, 805, 812, 813, 818, 823, 825, 826, 835, 838, 850, 890, 892, 900, 906, 914, 917, 925, 929, 958, 969, 972, 983, 996] \n",
      " medoid  461\n",
      "---------------------------------------------------------------------------\n",
      "cluster  31 \t [2, 20, 36, 48, 52, 53, 55, 68, 100, 104, 106, 122, 132, 133, 136, 140, 151, 162, 164, 165, 178, 180, 185, 193, 202, 204, 206, 209, 222, 224, 225, 228, 231, 245, 247, 248, 256, 264, 270, 275, 280, 281, 290, 298, 304, 305, 311, 314, 318, 348, 357, 358, 363, 365, 366, 371, 376, 383, 384, 390, 394, 402, 403, 409, 411, 412, 413, 415, 423, 426, 428, 430, 433, 436, 440, 443, 450, 452, 453, 459, 464, 469, 476, 484, 488, 489, 490, 497, 499, 505, 508, 509, 511, 512, 520, 532, 535, 541, 543, 544, 547, 579, 598, 599, 606, 608, 619, 621, 635, 637, 643, 654, 662, 665, 670, 671, 672, 673, 676, 682, 694, 695, 698, 717, 738, 748, 749, 758, 763, 764, 772, 776, 778, 781, 794, 800, 820, 824, 827, 841, 843, 844, 847, 852, 854, 855, 857, 859, 860, 861, 863, 864, 867, 877, 880, 888, 895, 913, 916, 932, 941, 943, 948, 960, 962, 971, 978, 981, 984, 997] \n",
      " medoid  621\n"
     ]
    }
   ],
   "source": [
    "for i in np.arange(k**(l-1)):\n",
    "    print('---------------------------------------------------------------------------')\n",
    "    print('cluster ', i, '\\t', sort_clusters[i] , '\\n', 'medoid ', sort_centers[i])"
   ]
  },
  {
   "cell_type": "markdown",
   "metadata": {},
   "source": [
    "# Train ML algorithm "
   ]
  },
  {
   "cell_type": "code",
   "execution_count": 7,
   "metadata": {},
   "outputs": [],
   "source": [
    "import xgboost as xgb\n",
    "from sklearn import preprocessing\n",
    "from sklearn.linear_model import LogisticRegression\n",
    "from sklearn.metrics import mean_squared_error"
   ]
  },
  {
   "cell_type": "code",
   "execution_count": 8,
   "metadata": {},
   "outputs": [
    {
     "name": "stderr",
     "output_type": "stream",
     "text": [
      "<ipython-input-8-e9bf63b1c235>:7: SettingWithCopyWarning: \n",
      "A value is trying to be set on a copy of a slice from a DataFrame.\n",
      "Try using .loc[row_indexer,col_indexer] = value instead\n",
      "\n",
      "See the caveats in the documentation: https://pandas.pydata.org/pandas-docs/stable/user_guide/indexing.html#returning-a-view-versus-a-copy\n",
      "  data[column] = le.fit_transform(data[column])\n"
     ]
    }
   ],
   "source": [
    "data = df.loc[: , df.columns != 'label']\n",
    "label = df.loc[: , df.columns == 'label']\n",
    "\n",
    "le = preprocessing.LabelEncoder()\n",
    "for column in cat_features:\n",
    "    le.fit(data[column])\n",
    "    data[column] = le.fit_transform(data[column])\n",
    "\n",
    "X_train, X_test, y_train, y_test = train_test_split(data, np.ravel(label), test_size=0.30, random_state=78) # 70% training and 30% test"
   ]
  },
  {
   "cell_type": "markdown",
   "metadata": {},
   "source": [
    "### 1. Logistic Regression "
   ]
  },
  {
   "cell_type": "code",
   "execution_count": 9,
   "metadata": {},
   "outputs": [
    {
     "name": "stdout",
     "output_type": "stream",
     "text": [
      "correct predictions train set \t 74.28571428571429\n",
      "correct predictions test set \t 73.66666666666667\n",
      "correct predictions total set \t 74.1\n"
     ]
    }
   ],
   "source": [
    "#train logistic regression model and check performance\n",
    "clf = LogisticRegression(random_state=100,max_iter=500).fit(X_train, y_train)\n",
    "clf_predictions_train = clf.predict(X_train)\n",
    "clf_predictions_test = clf.predict(X_test)\n",
    "clf_predictions_total = clf.predict(data)\n",
    "\n",
    "p_correct_train = 1 - (abs(clf_predictions_train-y_train).sum() / len(y_train))\n",
    "p_correct_test = 1 - (abs(clf_predictions_test-y_test).sum() / len(y_test))\n",
    "p_correct_total = 1 - (abs(clf_predictions_total-np.ravel(label)).sum() / len(np.ravel(label)))\n",
    "\n",
    "print('correct predictions train set' ,'\\t', p_correct_train*100)\n",
    "print('correct predictions test set' , '\\t',  p_correct_test*100)\n",
    "print('correct predictions total set' , '\\t', p_correct_total*100)"
   ]
  },
  {
   "cell_type": "markdown",
   "metadata": {},
   "source": [
    "### 2. XGboost classifier"
   ]
  },
  {
   "cell_type": "code",
   "execution_count": 10,
   "metadata": {},
   "outputs": [
    {
     "name": "stdout",
     "output_type": "stream",
     "text": [
      "correct predictions train set \t 91.0\n",
      "correct predictions test set \t 74.0\n",
      "correct predictions total set \t 85.9\n"
     ]
    }
   ],
   "source": [
    "#train XGboost\n",
    "xg_clf = xgb.XGBClassifier(max_depth=5, gamma=1, use_label_encoder=False,eval_metric='error')\n",
    "xg_clf.fit(X_train, y_train)\n",
    "\n",
    "xg_predictions_train = xg_clf.predict(X_train)\n",
    "xg_predictions_test = xg_clf.predict(X_test)\n",
    "xg_predictions_total = xg_clf.predict(data)\n",
    "\n",
    "p_correct_train = 1 - (abs(xg_predictions_train-y_train).sum() / len(y_train))\n",
    "p_correct_test = 1 - (abs(xg_predictions_test-y_test).sum() / len(y_test))\n",
    "p_correct_total = 1 - (abs(xg_predictions_total-np.ravel(label)).sum() / len(np.ravel(label)))\n",
    "\n",
    "print('correct predictions train set' ,'\\t', p_correct_train*100)\n",
    "print('correct predictions test set' , '\\t',  p_correct_test*100)\n",
    "print('correct predictions total set' , '\\t', p_correct_total*100)"
   ]
  },
  {
   "cell_type": "markdown",
   "metadata": {},
   "source": [
    "### 3. Support Vector Machine classifier "
   ]
  },
  {
   "cell_type": "code",
   "execution_count": 11,
   "metadata": {},
   "outputs": [
    {
     "name": "stdout",
     "output_type": "stream",
     "text": [
      "correct predictions train set \t 71.28571428571429\n",
      "correct predictions test set \t 69.66666666666667\n",
      "correct predictions total set \t 70.8\n"
     ]
    }
   ],
   "source": [
    "from sklearn import svm\n",
    "\n",
    "svm_clf = svm.SVC()\n",
    "svm_clf.fit(X_train,y_train)\n",
    "\n",
    "svm_predictions_train = svm_clf.predict(X_train)\n",
    "svm_predictions_test = svm_clf.predict(X_test)\n",
    "svm_predictions_total = svm_clf.predict(data)\n",
    "\n",
    "p_correct_train = 1 - (abs(svm_predictions_train-y_train).sum() / len(y_train))\n",
    "p_correct_test = 1 - (abs(svm_predictions_test-y_test).sum() / len(y_test))\n",
    "p_correct_total = 1 - (abs(svm_predictions_total-np.ravel(label)).sum() / len(np.ravel(label)))\n",
    "\n",
    "print('correct predictions train set' ,'\\t', p_correct_train*100)\n",
    "print('correct predictions test set' , '\\t',  p_correct_test*100)\n",
    "print('correct predictions total set' , '\\t', p_correct_total*100)"
   ]
  },
  {
   "cell_type": "markdown",
   "metadata": {},
   "source": [
    "# 3.a Evaluation of Clustering method "
   ]
  },
  {
   "cell_type": "markdown",
   "metadata": {},
   "source": [
    "## Stability towards initialization "
   ]
  },
  {
   "cell_type": "markdown",
   "metadata": {},
   "source": [
    "We test the stability of the clustering method towards the initialization of the clusters by running the algorithm multiple times for different (random) initializations and compare the final clusters. "
   ]
  },
  {
   "cell_type": "code",
   "execution_count": 9,
   "metadata": {},
   "outputs": [
    {
     "name": "stdout",
     "output_type": "stream",
     "text": [
      "We found  38  different cluster-combination(s) when running the clustering algorithm  100 times\n",
      "mean running time :  1.6985 \t std dev :  0.10991700266449898\n"
     ]
    }
   ],
   "source": [
    "l = 6\n",
    "k = 2\n",
    "\n",
    "test_stability = [] #list with unique cluster-combinations\n",
    "all_clusters = [] #list with all clusters\n",
    "test_medoids = [] #list with medoids of the unique cluster-combinations\n",
    "t_s = 100 #number of runs\n",
    "list_time = []\n",
    "\n",
    "for test in np.arange(t_s):\n",
    "    t0=time.time()\n",
    "\n",
    "    dict_layers = {0:[X.index.tolist()]} #keep track of clusters by layer\n",
    "    dict_medoids = {0:[]} #keep track of medoids by layer\n",
    "    for i in np.arange(1,l): \n",
    "        dict_layers[i] = []\n",
    "        dict_medoids[i] = []\n",
    "\n",
    "    for layer in np.arange(l-1): #iterate over layers\n",
    "        for i in np.arange(k**layer): #iterate over number of clusters within one layer\n",
    "            X_subset = X.loc[dict_layers[layer][i],:] #subset of cluster\n",
    "            \n",
    "            #create an index_book to keep track of original indices\n",
    "            index_book = {}\n",
    "            teller = 0 \n",
    "            for index in X_subset.index:\n",
    "                index_book[teller] = index\n",
    "                teller += 1\n",
    "        \n",
    "            X_subset = X_subset.reset_index(drop=True) #reset index before running clustering algorithm \n",
    "        \n",
    "            #run clustering algorithm \n",
    "            initial_medoids = np.sort(random.sample(list(X_subset.index),k))\n",
    "            kmedoids_instance = kmedoids(gower_distance(X_subset),initial_medoids,data_type='distance_matrix',iter_max=1000)\n",
    "            kmedoids_instance.process()\n",
    "            clusters = kmedoids_instance.get_clusters()\n",
    "            centers = kmedoids_instance.get_medoids()\n",
    "    \n",
    "            #translate indices back to original index \n",
    "            for j in np.arange(k):\n",
    "                translated_cluster = []\n",
    "                for item in clusters[j]:\n",
    "                    translated_cluster.append(index_book[item])\n",
    "                dict_medoids[layer+1].append(index_book[centers[j]])\n",
    "                dict_layers[layer+1].append(translated_cluster)\n",
    "    \n",
    "    #final clusters are the ones from the last layer\n",
    "    ts_final_clusters = dict_layers[l-1]\n",
    "    ts_final_medoids = dict_medoids[l-1]\n",
    "\n",
    "    #sort the clusters, in this way we always obtain the same cluster numbers \n",
    "    ts_clusters = ts_final_clusters.copy()\n",
    "    ts_centers = ts_final_medoids.copy()\n",
    "    \n",
    "    #check if the cluster already occured in previous run\n",
    "    if (sorted(ts_clusters) not in test_stability):\n",
    "        test_stability.append(sorted(ts_clusters)) #if not append cluster to list\n",
    "        sort_centers = []\n",
    "        for p in np.arange(k**(l-1)):\n",
    "            for q in np.arange(k**(l-1)):\n",
    "                if (sorted(ts_clusters)[p] == ts_clusters[q]):\n",
    "                    sort_centers.append(ts_centers[q])\n",
    "        test_medoids.append(sort_centers)\n",
    "    all_clusters.append(sorted(ts_clusters))\n",
    "    \n",
    "    list_time.append(round(time.time()-t0, 3))\n",
    "\n",
    "print('We found ' , len(test_stability) ,' different cluster-combination(s) when running the clustering algorithm ', t_s , 'times')\n",
    "print('mean running time : ', statistics.mean(list_time), '\\t', 'std dev : ' , statistics.stdev(list_time))"
   ]
  },
  {
   "cell_type": "code",
   "execution_count": 10,
   "metadata": {},
   "outputs": [
    {
     "name": "stdout",
     "output_type": "stream",
     "text": [
      "cluster-combination  0  occurs  6  times\n",
      "cluster-combination  1  occurs  3  times\n",
      "cluster-combination  2  occurs  1  times\n",
      "cluster-combination  3  occurs  10  times\n",
      "cluster-combination  4  occurs  1  times\n",
      "cluster-combination  5  occurs  2  times\n",
      "cluster-combination  6  occurs  7  times\n",
      "cluster-combination  7  occurs  4  times\n",
      "cluster-combination  8  occurs  30  times\n",
      "cluster-combination  9  occurs  4  times\n",
      "cluster-combination  10  occurs  1  times\n",
      "cluster-combination  11  occurs  2  times\n",
      "cluster-combination  12  occurs  1  times\n",
      "cluster-combination  13  occurs  1  times\n",
      "cluster-combination  14  occurs  1  times\n",
      "cluster-combination  15  occurs  1  times\n",
      "cluster-combination  16  occurs  1  times\n",
      "cluster-combination  17  occurs  2  times\n",
      "cluster-combination  18  occurs  1  times\n",
      "cluster-combination  19  occurs  1  times\n",
      "cluster-combination  20  occurs  1  times\n",
      "cluster-combination  21  occurs  2  times\n",
      "cluster-combination  22  occurs  1  times\n",
      "cluster-combination  23  occurs  1  times\n",
      "cluster-combination  24  occurs  1  times\n",
      "cluster-combination  25  occurs  1  times\n",
      "cluster-combination  26  occurs  1  times\n",
      "cluster-combination  27  occurs  1  times\n",
      "cluster-combination  28  occurs  1  times\n",
      "cluster-combination  29  occurs  1  times\n",
      "cluster-combination  30  occurs  1  times\n",
      "cluster-combination  31  occurs  2  times\n",
      "cluster-combination  32  occurs  1  times\n",
      "cluster-combination  33  occurs  1  times\n",
      "cluster-combination  34  occurs  1  times\n",
      "cluster-combination  35  occurs  1  times\n",
      "cluster-combination  36  occurs  1  times\n",
      "cluster-combination  37  occurs  1  times\n"
     ]
    }
   ],
   "source": [
    "count_combo = 0\n",
    "for combo in test_stability: \n",
    "    count = 0\n",
    "    for item in all_clusters:\n",
    "        if (item == combo):\n",
    "            count += 1 \n",
    "    print('cluster-combination ', count_combo , ' occurs ', count, ' times')\n",
    "    count_combo += 1"
   ]
  },
  {
   "cell_type": "code",
   "execution_count": 14,
   "metadata": {},
   "outputs": [],
   "source": [
    "def compare_cluster_combo(i,j,test_stability):\n",
    "    comb1 = i\n",
    "    comb2 = j\n",
    "    list_same_max = []\n",
    "\n",
    "    for cluster1 in test_stability[comb1]:\n",
    "        list_same_elements = []\n",
    "        for cluster2 in test_stability[comb2]:\n",
    "            count = 0\n",
    "            for element in cluster1:\n",
    "                if (element in cluster2):\n",
    "                    count += 1\n",
    "            list_same_elements.append(count / len(cluster1))\n",
    "        list_same_max.append(max(list_same_elements))\n",
    "    return sum(list_same_max) / len(list_same_max)"
   ]
  },
  {
   "cell_type": "code",
   "execution_count": 15,
   "metadata": {},
   "outputs": [
    {
     "data": {
      "image/png": "[encoded data removed]",
      "text/plain": [
       "<Figure size 432x288 with 2 Axes>"
      ]
     },
     "metadata": {
      "needs_background": "light"
     },
     "output_type": "display_data"
    }
   ],
   "source": [
    "dict_compare_combo = {}\n",
    "\n",
    "for i in np.arange(len(test_stability)):\n",
    "    dict_compare_combo[i] = []\n",
    "    for j in np.arange(len(test_stability)):\n",
    "        if (i == j):\n",
    "            dict_compare_combo[i].append(1)\n",
    "        else:\n",
    "            dict_compare_combo[i].append(compare_cluster_combo(i,j,test_stability))\n",
    "            \n",
    "#show tabel of mean similarity score over all features \n",
    "df_sim = pd.DataFrame.from_dict(dict_compare_combo)\n",
    "ax = sns.heatmap(df_sim, vmin=0.5, vmax=1 , linewidths=0.1 , cmap='Blues'  )"
   ]
  },
  {
   "cell_type": "markdown",
   "metadata": {},
   "source": [
    "If there occurs more than one cluster-combination, set the clusters used for further analysis to the most common cluster (see combination-count above)."
   ]
  },
  {
   "cell_type": "code",
   "execution_count": 11,
   "metadata": {},
   "outputs": [],
   "source": [
    "#If there occurs more than one cluster-combination, set the clusters used for further analysis to the most common cluster\n",
    "perturbation = 8 #the most occuring cluster-combination\n",
    "\n",
    "#sort the clusters, in this way we always obtain the same cluster numbers \n",
    "sort_clusters = test_stability[perturbation].copy()\n",
    "sort_clusters.sort(key=len)\n",
    "sort_centers = []\n",
    "for i in np.arange(k**(l-1)):\n",
    "    for j in np.arange(k**(l-1)):\n",
    "        if (sort_clusters[i] == test_stability[perturbation][j]):\n",
    "            sort_centers.append(test_medoids[perturbation][j])"
   ]
  },
  {
   "cell_type": "markdown",
   "metadata": {},
   "source": [
    "## Compactness of cluster "
   ]
  },
  {
   "cell_type": "markdown",
   "metadata": {},
   "source": [
    "To compute the compactness of a cluster we arangethe samples within the cluster from closest to the medoid to farthest from the medoid. Next we look at the 10, 20, 30, etc. percent of the cluster closest to the medoid, and for each subset we compute the Gower distance between the farest point and the medoid. "
   ]
  },
  {
   "cell_type": "code",
   "execution_count": 17,
   "metadata": {},
   "outputs": [],
   "source": [
    "def density_cluster(centers,clusters,c_i):\n",
    "    indices = clusters[c_i]\n",
    "    subset = X.loc[indices,:]\n",
    "    medoid = centers[c_i]\n",
    "    number = 1000\n",
    "    for i in np.arange(len(indices)):\n",
    "        if (indices[i] == medoid):\n",
    "            number = i \n",
    "    subset_distance = gower_distance(subset)[number]\n",
    "    subset_distance.sort()\n",
    "    percentage = [1,0.9,0.8,0.7,0.6,0.5,0.4,0.3,0.2,0.1]\n",
    "    mean = []\n",
    "    Max = []\n",
    "    for p in percentage:\n",
    "        n_p = round(len(indices)*p)\n",
    "        if (n_p==0):\n",
    "            mean.append(0)\n",
    "            Max.append(0)\n",
    "        else:\n",
    "            mean.append(subset_distance[:n_p].mean())\n",
    "            Max.append(subset_distance[:n_p].max())\n",
    "    df = pd.DataFrame(list(zip(percentage,mean,Max)),columns=['percentage','mean','max'])\n",
    "    return Max"
   ]
  },
  {
   "cell_type": "code",
   "execution_count": 18,
   "metadata": {},
   "outputs": [
    {
     "data": {
      "text/plain": [
       "<matplotlib.axes._subplots.AxesSubplot at 0x27faf8b0040>"
      ]
     },
     "execution_count": 18,
     "metadata": {},
     "output_type": "execute_result"
    },
    {
     "data": {
      "image/png": "[encoded data removed]",
      "text/plain": [
       "<Figure size 432x288 with 1 Axes>"
      ]
     },
     "metadata": {
      "needs_background": "light"
     },
     "output_type": "display_data"
    }
   ],
   "source": [
    "D = {'fraction':[1,0.9,0.8,0.7,0.6,0.5,0.4,0.3,0.2,0.1]}\n",
    "\n",
    "for i in np.arange(k**(l-1)):\n",
    "    D[i] = density_cluster(sort_centers,sort_clusters,i)\n",
    "    \n",
    "df_density = pd.DataFrame.from_dict(D)\n",
    "df_density.plot(x='fraction',title='Compactness plot',legend=None)"
   ]
  },
  {
   "cell_type": "markdown",
   "metadata": {},
   "source": [
    "## Similarity between clusters "
   ]
  },
  {
   "cell_type": "markdown",
   "metadata": {},
   "source": [
    "We compute the similarity between two different clusters by comparing the distribution of the features. For all features we compare the fractions of different feature-values, where for numerical features we first disretize the data. \n",
    "A similarity score of 0 means that the feature is completely different distributed in both clusters and a similarity score of 1 means that a feature has the same distribution in two clusters. "
   ]
  },
  {
   "cell_type": "code",
   "execution_count": 19,
   "metadata": {},
   "outputs": [],
   "source": [
    "#similarity for categroical features\n",
    "\n",
    "def similarity_cat(clusters,c_i,c_j,feature):\n",
    "    indices_i = clusters[c_i]\n",
    "    indices_j = clusters[c_j]\n",
    "    subset_i = X.loc[indices_i,:]\n",
    "    subset_j = X.loc[indices_j,:]\n",
    "    \n",
    "    value_list = [] #create list with feature values \n",
    "    for val in subset_i[feature].unique():\n",
    "        value_list.append(val)\n",
    "    for val in subset_j[feature].unique():\n",
    "        if (val not in value_list):\n",
    "            value_list.append(val)\n",
    "    \n",
    "    sim_score = 0\n",
    "    for val in value_list:\n",
    "        if (val in subset_i[feature].unique()):\n",
    "            frac_i = subset_i[feature].value_counts()[val] / len(subset_i[feature])\n",
    "        else:\n",
    "            frac_i = 0\n",
    "        if (val in subset_j[feature].unique()):\n",
    "            frac_j = subset_j[feature].value_counts()[val] / len(subset_j[feature])\n",
    "        else:\n",
    "            frac_j = 0\n",
    "        sim_score += min(frac_i,frac_j)\n",
    "    #print(feature, '\\t', \"%.2f\" % sim_score)\n",
    "    return sim_score"
   ]
  },
  {
   "cell_type": "code",
   "execution_count": 20,
   "metadata": {},
   "outputs": [],
   "source": [
    "#similarity for numerical features\n",
    "\n",
    "def similarity_num(clusters,c_i,c_j,feature):\n",
    "    indices_i = clusters[c_i]\n",
    "    indices_j = clusters[c_j]\n",
    "    subset_i = X.loc[indices_i,:]\n",
    "    subset_j = X.loc[indices_j,:]\n",
    "    \n",
    "    n_i = 10 #number of intervals\n",
    "    Min = min(subset_i[feature].min(),subset_j[feature].min())\n",
    "    Max = max(subset_i[feature].max(),subset_j[feature].max())\n",
    "    rng = np.arange(Min,Max+(Max-Min)/n_i,(Max-Min)/n_i)\n",
    "    \n",
    "    sim_score = 0\n",
    "    for i in np.arange(n_i):\n",
    "        f_i = len(subset_i[(subset_i[feature]<rng[i+1]) & (subset_i[feature]>rng[i])]) / (len(subset_i))\n",
    "        f_j = len(subset_j[(subset_j[feature]<rng[i+1]) & (subset_j[feature]>rng[i])]) / (len(subset_j))\n",
    "        sim_score += min(f_i,f_j)\n",
    "    #print(feature, '\\t', \"%.2f\" % sim_score)\n",
    "    output = sim_score\n",
    "    return output"
   ]
  },
  {
   "cell_type": "code",
   "execution_count": 21,
   "metadata": {},
   "outputs": [
    {
     "data": {
      "image/png": "[encoded data removed]",
      "text/plain": [
       "<Figure size 432x288 with 2 Axes>"
      ]
     },
     "metadata": {
      "needs_background": "light"
     },
     "output_type": "display_data"
    }
   ],
   "source": [
    "dict_sim = {}\n",
    "list_scores = []\n",
    "\n",
    "for c_i in np.arange(len(sort_clusters)):\n",
    "    dict_sim[c_i] = []\n",
    "    for c_j in np.arange(len(sort_clusters)):\n",
    "        list_scores = []\n",
    "        if (c_i == c_j):\n",
    "            dict_sim[c_i].append(1)\n",
    "        else:\n",
    "            for cat_feature in cat_features:\n",
    "                list_scores.append(similarity_cat(sort_clusters,c_i,c_j,cat_feature))\n",
    "            for num_feature in num_features:\n",
    "                list_scores.append(similarity_num(sort_clusters,c_i,c_j,num_feature))\n",
    "            mean_score = statistics.mean(list_scores)\n",
    "            dict_sim[c_i].append(mean_score)\n",
    "            \n",
    "#show tabel of mean similarity score over all features \n",
    "df_sim = pd.DataFrame.from_dict(dict_sim)\n",
    "ax = sns.heatmap(df_sim, vmin=0, vmax=1 , linewidths=0.1 , cmap='Purples'  )"
   ]
  },
  {
   "cell_type": "markdown",
   "metadata": {},
   "source": [
    "For any two clusters we can get more detailed information about their similarity by looking at the feature-wise similarity scores. "
   ]
  },
  {
   "cell_type": "code",
   "execution_count": 22,
   "metadata": {},
   "outputs": [
    {
     "name": "stdout",
     "output_type": "stream",
     "text": [
      "---similarity scores for cluster  3  and  6 ---\n",
      "Sex \t 1.00\n",
      "Job \t 0.89\n",
      "Housing \t 0.92\n",
      "Saving accounts \t 0.30\n",
      "Checking account \t 0.18\n",
      "Purpose \t 0.88\n",
      "Age \t 0.64\n",
      "Credit amount \t 0.58\n",
      "Duration \t 0.73\n"
     ]
    }
   ],
   "source": [
    "#show for 2 given clusters the similarity score by feature\n",
    "cluster_i = 3\n",
    "cluster_j = 6\n",
    "\n",
    "print('---similarity scores for cluster ',cluster_i,' and ',cluster_j,'---')\n",
    "for cat_feature in cat_features:\n",
    "    print(cat_feature, '\\t', \"%.2f\" % similarity_cat(sort_clusters,cluster_i,cluster_j,cat_feature))\n",
    "for num_feature in num_features:\n",
    "    print(num_feature, '\\t', \"%.2f\" % similarity_num(sort_clusters,cluster_i,cluster_j,num_feature))"
   ]
  },
  {
   "cell_type": "markdown",
   "metadata": {},
   "source": [
    "## Variability"
   ]
  },
  {
   "cell_type": "code",
   "execution_count": 12,
   "metadata": {},
   "outputs": [],
   "source": [
    "#compute variability of numerical features\n",
    "def numerical_std(numerical_variable):\n",
    "    name = numerical_variable.name\n",
    "    Vmin = numerical_variable.min()\n",
    "    Vmax = numerical_variable.max()\n",
    "    Vnorm = (numerical_variable-Vmin)/(Vmax-Vmin)\n",
    "    norm_std = statistics.stdev(Vnorm.tolist())\n",
    "    return norm_std"
   ]
  },
  {
   "cell_type": "code",
   "execution_count": 13,
   "metadata": {},
   "outputs": [],
   "source": [
    "#compute variability of categorical features\n",
    "def categorical_variation(categorical_variable):\n",
    "    name = categorical_variable.name\n",
    "    q = categorical_variable.nunique()\n",
    "    n = categorical_variable.count() \n",
    "    values_list = categorical_variable.drop_duplicates().to_list()\n",
    "    if (q==1):\n",
    "        return 0 \n",
    "    else:\n",
    "        frequencies = []\n",
    "        for val in values_list:\n",
    "            f = categorical_variable.value_counts()[val] / n\n",
    "            frequencies.append(f)\n",
    "        f2 = 0\n",
    "        for i in np.arange(q):\n",
    "            f2 += (frequencies[i]**2)\n",
    "        v = 1 - np.sqrt(f2)\n",
    "        v_s = v / (1-1/(np.sqrt(q)))\n",
    "        return v_s"
   ]
  },
  {
   "cell_type": "code",
   "execution_count": 14,
   "metadata": {},
   "outputs": [],
   "source": [
    "#prints variability of a cluster \n",
    "def variability(matrix,clusters,cluster_number):\n",
    "    c_indices = clusters[cluster_number]\n",
    "    matrix_subset = matrix.loc[c_indices,:]\n",
    "    for column in matrix.columns:\n",
    "        if (column in cat_features):\n",
    "            print(column , '\\t', \"%.2f\" % categorical_variation(matrix_subset[column]))\n",
    "        elif (column in num_features):\n",
    "            print(column , '\\t', \"%.2f\" % min(numerical_std(matrix_subset[column])/np.sqrt(1/12),1) )"
   ]
  },
  {
   "cell_type": "code",
   "execution_count": 15,
   "metadata": {},
   "outputs": [],
   "source": [
    "#returns list of variability of a cluster\n",
    "def variability2(matrix,clusters,cluster_number):\n",
    "    c_indices = clusters[cluster_number]\n",
    "    matrix_subset = matrix.loc[c_indices,:]\n",
    "    list_var = []\n",
    "    for column in matrix.columns:\n",
    "        if (column in cat_features):\n",
    "            list_var.append(categorical_variation(matrix_subset[column]))\n",
    "        elif (column in num_features):\n",
    "            list_var.append(min(numerical_std(matrix_subset[column])/np.sqrt(1/12),1))\n",
    "    return list_var"
   ]
  },
  {
   "cell_type": "markdown",
   "metadata": {},
   "source": [
    "Variability plot shows for each cluster the feature-wise variability, where 0 indicates a low variability and 1 a high variability. "
   ]
  },
  {
   "cell_type": "code",
   "execution_count": 17,
   "metadata": {},
   "outputs": [
    {
     "data": {
      "image/png": "[encoded data removed]",
      "text/plain": [
       "<Figure size 432x288 with 2 Axes>"
      ]
     },
     "metadata": {
      "needs_background": "light"
     },
     "output_type": "display_data"
    }
   ],
   "source": [
    "dict_var = {}\n",
    "for i in np.arange(len(sort_clusters)):\n",
    "    dict_var[i] = variability2(X,sort_clusters,i)\n",
    "\n",
    "df_var = pd.DataFrame.from_dict(dict_var, orient='index', columns=all_features)\n",
    "ax = sns.heatmap(df_var, vmin=0, vmax=1 , linewidths=0.1 , cmap='coolwarm'  )"
   ]
  },
  {
   "cell_type": "markdown",
   "metadata": {},
   "source": [
    "We can also print the variability. "
   ]
  },
  {
   "cell_type": "code",
   "execution_count": 28,
   "metadata": {},
   "outputs": [
    {
     "name": "stdout",
     "output_type": "stream",
     "text": [
      "---Variability of cluster  0 ---\n",
      "Age \t 0.99\n",
      "Sex \t 0.25\n",
      "Job \t 0.60\n",
      "Housing \t 0.37\n",
      "Saving accounts \t 0.43\n",
      "Checking account \t 0.70\n",
      "Credit amount \t 1.00\n",
      "Duration \t 1.00\n",
      "Purpose \t 0.34\n",
      "---Variability of cluster  1 ---\n",
      "Age \t 0.77\n",
      "Sex \t 0.00\n",
      "Job \t 0.77\n",
      "Housing \t 0.59\n",
      "Saving accounts \t 0.89\n",
      "Checking account \t 0.31\n",
      "Credit amount \t 0.98\n",
      "Duration \t 0.95\n",
      "Purpose \t 0.69\n",
      "---Variability of cluster  2 ---\n",
      "Age \t 0.83\n",
      "Sex \t 0.22\n",
      "Job \t 0.83\n",
      "Housing \t 0.66\n",
      "Saving accounts \t 0.69\n",
      "Checking account \t 0.23\n",
      "Credit amount \t 0.86\n",
      "Duration \t 0.88\n",
      "Purpose \t 0.69\n",
      "---Variability of cluster  3 ---\n",
      "Age \t 0.96\n",
      "Sex \t 0.00\n",
      "Job \t 0.72\n",
      "Housing \t 0.65\n",
      "Saving accounts \t 0.76\n",
      "Checking account \t 0.14\n",
      "Credit amount \t 0.78\n",
      "Duration \t 0.83\n",
      "Purpose \t 0.45\n",
      "---Variability of cluster  4 ---\n",
      "Age \t 0.79\n",
      "Sex \t 0.00\n",
      "Job \t 0.53\n",
      "Housing \t 0.29\n",
      "Saving accounts \t 0.41\n",
      "Checking account \t 0.58\n",
      "Credit amount \t 0.72\n",
      "Duration \t 0.67\n",
      "Purpose \t 0.45\n",
      "---Variability of cluster  5 ---\n",
      "Age \t 0.94\n",
      "Sex \t 0.00\n",
      "Job \t 0.54\n",
      "Housing \t 0.43\n",
      "Saving accounts \t 0.67\n",
      "Checking account \t 0.34\n",
      "Credit amount \t 0.74\n",
      "Duration \t 0.73\n",
      "Purpose \t 0.30\n",
      "---Variability of cluster  6 ---\n",
      "Age \t 0.84\n",
      "Sex \t 0.00\n",
      "Job \t 0.68\n",
      "Housing \t 0.77\n",
      "Saving accounts \t 0.36\n",
      "Checking account \t 0.42\n",
      "Credit amount \t 0.67\n",
      "Duration \t 0.84\n",
      "Purpose \t 0.31\n",
      "---Variability of cluster  7 ---\n",
      "Age \t 0.71\n",
      "Sex \t 0.00\n",
      "Job \t 0.70\n",
      "Housing \t 0.50\n",
      "Saving accounts \t 0.43\n",
      "Checking account \t 0.14\n",
      "Credit amount \t 0.79\n",
      "Duration \t 0.96\n",
      "Purpose \t 0.72\n",
      "---Variability of cluster  8 ---\n",
      "Age \t 0.87\n",
      "Sex \t 0.32\n",
      "Job \t 0.61\n",
      "Housing \t 0.07\n",
      "Saving accounts \t 0.31\n",
      "Checking account \t 0.69\n",
      "Credit amount \t 0.78\n",
      "Duration \t 0.75\n",
      "Purpose \t 0.60\n",
      "---Variability of cluster  9 ---\n",
      "Age \t 0.87\n",
      "Sex \t 0.00\n",
      "Job \t 0.81\n",
      "Housing \t 0.65\n",
      "Saving accounts \t 0.45\n",
      "Checking account \t 0.26\n",
      "Credit amount \t 0.79\n",
      "Duration \t 0.80\n",
      "Purpose \t 0.45\n",
      "---Variability of cluster  10 ---\n",
      "Age \t 0.92\n",
      "Sex \t 0.00\n",
      "Job \t 0.57\n",
      "Housing \t 0.52\n",
      "Saving accounts \t 0.21\n",
      "Checking account \t 0.10\n",
      "Credit amount \t 0.63\n",
      "Duration \t 0.80\n",
      "Purpose \t 0.45\n",
      "---Variability of cluster  11 ---\n",
      "Age \t 0.62\n",
      "Sex \t 0.00\n",
      "Job \t 0.67\n",
      "Housing \t 0.40\n",
      "Saving accounts \t 0.54\n",
      "Checking account \t 0.44\n",
      "Credit amount \t 0.56\n",
      "Duration \t 0.66\n",
      "Purpose \t 0.25\n",
      "---Variability of cluster  12 ---\n",
      "Age \t 0.62\n",
      "Sex \t 0.77\n",
      "Job \t 0.64\n",
      "Housing \t 0.32\n",
      "Saving accounts \t 0.38\n",
      "Checking account \t 0.62\n",
      "Credit amount \t 0.71\n",
      "Duration \t 0.95\n",
      "Purpose \t 0.53\n",
      "---Variability of cluster  13 ---\n",
      "Age \t 0.79\n",
      "Sex \t 0.00\n",
      "Job \t 0.74\n",
      "Housing \t 0.73\n",
      "Saving accounts \t 0.29\n",
      "Checking account \t 0.41\n",
      "Credit amount \t 0.62\n",
      "Duration \t 0.84\n",
      "Purpose \t 0.30\n",
      "---Variability of cluster  14 ---\n",
      "Age \t 0.79\n",
      "Sex \t 0.00\n",
      "Job \t 0.71\n",
      "Housing \t 0.36\n",
      "Saving accounts \t 0.62\n",
      "Checking account \t 0.35\n",
      "Credit amount \t 0.71\n",
      "Duration \t 0.75\n",
      "Purpose \t 0.58\n",
      "---Variability of cluster  15 ---\n",
      "Age \t 0.62\n",
      "Sex \t 0.00\n",
      "Job \t 0.56\n",
      "Housing \t 0.43\n",
      "Saving accounts \t 0.56\n",
      "Checking account \t 0.41\n",
      "Credit amount \t 0.49\n",
      "Duration \t 0.66\n",
      "Purpose \t 0.34\n"
     ]
    }
   ],
   "source": [
    "for i in np.arange(len(sort_clusters)):\n",
    "    print('---Variability of cluster ',i,'---')\n",
    "    variability(X,sort_clusters,i)"
   ]
  }
 ],
 "metadata": {
  "kernelspec": {
   "display_name": "Python 3",
   "language": "python",
   "name": "python3"
  },
  "language_info": {
   "codemirror_mode": {
    "name": "ipython",
    "version": 3
   },
   "file_extension": ".py",
   "mimetype": "text/x-python",
   "name": "python",
   "nbconvert_exporter": "python",
   "pygments_lexer": "ipython3",
   "version": "3.8.3"
  }
 },
 "nbformat": 4,
 "nbformat_minor": 4
}

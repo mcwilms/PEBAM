{
 "cells": [
  {
   "cell_type": "code",
   "execution_count": 9,
   "metadata": {},
   "outputs": [],
   "source": [
    "import pandas as pd\n",
    "import numpy as np\n",
    "import time\n",
    "import random\n",
    "\n",
    "from sklearn.model_selection import train_test_split\n",
    "from sklearn.metrics import mean_squared_error\n",
    "from sklearn.neighbors import DistanceMetric\n",
    "from sklearn_extra.cluster import KMedoids\n",
    "import matplotlib.pyplot as plt\n",
    "import statistics\n",
    "import pyclustering\n",
    "from pyclustering.cluster.kmedoids import kmedoids\n",
    "import gower\n",
    "import seaborn as sns\n",
    "import pyclustering\n",
    "from sklearn.metrics.pairwise import pairwise_distances\n",
    "from pyclustering.cluster import cluster_visualizer\n",
    "from pyclustering.cluster.center_initializer import kmeans_plusplus_initializer\n",
    "from pyclustering.cluster.kmedoids import kmedoids"
   ]
  },
  {
   "cell_type": "markdown",
   "metadata": {},
   "source": [
    "# Read dataset"
   ]
  },
  {
   "cell_type": "code",
   "execution_count": 10,
   "metadata": {},
   "outputs": [
    {
     "data": {
      "text/html": [
       "<div>\n",
       "<style scoped>\n",
       "    .dataframe tbody tr th:only-of-type {\n",
       "        vertical-align: middle;\n",
       "    }\n",
       "\n",
       "    .dataframe tbody tr th {\n",
       "        vertical-align: top;\n",
       "    }\n",
       "\n",
       "    .dataframe thead th {\n",
       "        text-align: right;\n",
       "    }\n",
       "</style>\n",
       "<table border=\"1\" class=\"dataframe\">\n",
       "  <thead>\n",
       "    <tr style=\"text-align: right;\">\n",
       "      <th></th>\n",
       "      <th>Age</th>\n",
       "      <th>Sex</th>\n",
       "      <th>Job</th>\n",
       "      <th>Housing</th>\n",
       "      <th>Saving accounts</th>\n",
       "      <th>Checking account</th>\n",
       "      <th>Credit amount</th>\n",
       "      <th>Duration</th>\n",
       "      <th>Purpose</th>\n",
       "      <th>label</th>\n",
       "    </tr>\n",
       "  </thead>\n",
       "  <tbody>\n",
       "    <tr>\n",
       "      <th>0</th>\n",
       "      <td>67</td>\n",
       "      <td>male</td>\n",
       "      <td>2</td>\n",
       "      <td>own</td>\n",
       "      <td>unknown</td>\n",
       "      <td>little</td>\n",
       "      <td>1169</td>\n",
       "      <td>6</td>\n",
       "      <td>radio/TV</td>\n",
       "      <td>1</td>\n",
       "    </tr>\n",
       "    <tr>\n",
       "      <th>1</th>\n",
       "      <td>22</td>\n",
       "      <td>female</td>\n",
       "      <td>2</td>\n",
       "      <td>own</td>\n",
       "      <td>little</td>\n",
       "      <td>moderate</td>\n",
       "      <td>5951</td>\n",
       "      <td>48</td>\n",
       "      <td>radio/TV</td>\n",
       "      <td>0</td>\n",
       "    </tr>\n",
       "    <tr>\n",
       "      <th>2</th>\n",
       "      <td>49</td>\n",
       "      <td>male</td>\n",
       "      <td>1</td>\n",
       "      <td>own</td>\n",
       "      <td>little</td>\n",
       "      <td>unknown</td>\n",
       "      <td>2096</td>\n",
       "      <td>12</td>\n",
       "      <td>education</td>\n",
       "      <td>1</td>\n",
       "    </tr>\n",
       "    <tr>\n",
       "      <th>3</th>\n",
       "      <td>45</td>\n",
       "      <td>male</td>\n",
       "      <td>2</td>\n",
       "      <td>free</td>\n",
       "      <td>little</td>\n",
       "      <td>little</td>\n",
       "      <td>7882</td>\n",
       "      <td>42</td>\n",
       "      <td>furniture/equipment</td>\n",
       "      <td>1</td>\n",
       "    </tr>\n",
       "    <tr>\n",
       "      <th>4</th>\n",
       "      <td>53</td>\n",
       "      <td>male</td>\n",
       "      <td>2</td>\n",
       "      <td>free</td>\n",
       "      <td>little</td>\n",
       "      <td>little</td>\n",
       "      <td>4870</td>\n",
       "      <td>24</td>\n",
       "      <td>car</td>\n",
       "      <td>0</td>\n",
       "    </tr>\n",
       "  </tbody>\n",
       "</table>\n",
       "</div>"
      ],
      "text/plain": [
       "   Age     Sex  Job Housing Saving accounts Checking account  Credit amount  \\\n",
       "0   67    male    2     own         unknown           little           1169   \n",
       "1   22  female    2     own          little         moderate           5951   \n",
       "2   49    male    1     own          little          unknown           2096   \n",
       "3   45    male    2    free          little           little           7882   \n",
       "4   53    male    2    free          little           little           4870   \n",
       "\n",
       "   Duration              Purpose  label  \n",
       "0         6             radio/TV      1  \n",
       "1        48             radio/TV      0  \n",
       "2        12            education      1  \n",
       "3        42  furniture/equipment      1  \n",
       "4        24                  car      0  "
      ]
     },
     "execution_count": 10,
     "metadata": {},
     "output_type": "execute_result"
    }
   ],
   "source": [
    "df = pd.read_excel(\"german_credit_data.xlsx\")\n",
    "df['label'] = (df.Risk == 'good').astype(int)\n",
    "df.drop(['Unnamed: 0','Risk'],axis=1,inplace=True)\n",
    "df = df.replace(np.nan, 'unknown', regex=True)\n",
    "df.head()"
   ]
  },
  {
   "cell_type": "markdown",
   "metadata": {},
   "source": [
    "Below we define which features are categorical and which are numerical. "
   ]
  },
  {
   "cell_type": "code",
   "execution_count": 11,
   "metadata": {},
   "outputs": [],
   "source": [
    "#Create lists of categorical and numerical features\n",
    "num_features = ['Age','Credit amount','Duration']\n",
    "cat_features = ['Sex','Job','Housing','Saving accounts','Checking account','Purpose']\n",
    "all_features = ['Age','Credit amount','Duration','Sex','Job','Housing','Saving accounts','Checking account','Purpose']"
   ]
  },
  {
   "cell_type": "markdown",
   "metadata": {},
   "source": [
    "# K-medoids clustering"
   ]
  },
  {
   "cell_type": "code",
   "execution_count": 12,
   "metadata": {},
   "outputs": [],
   "source": [
    "#This function compute the Gower distance matrix\n",
    "# input: NxM feature matrix\n",
    "# output: NxN distance matrix \n",
    "\n",
    "def gower_distance(matrix):\n",
    "    output = gower.gower_matrix(matrix)\n",
    "    return output"
   ]
  },
  {
   "cell_type": "code",
   "execution_count": 13,
   "metadata": {},
   "outputs": [
    {
     "name": "stdout",
     "output_type": "stream",
     "text": [
      "training time: 8.491 s\n"
     ]
    }
   ],
   "source": [
    "X = df.loc[: , df.columns != 'label']\n",
    "y = df.loc[: , df.columns == 'label']\n",
    "k = 30\n",
    "n = len(X)\n",
    "\n",
    "t0=time.time()\n",
    "\n",
    "initial_medoids = np.sort(np.random.choice(n,k))\n",
    "kmedoids_instance = kmedoids(gower_distance(X),initial_medoids,data_type='distance_matrix',iter_max=1000)\n",
    "kmedoids_instance.process()\n",
    "clusters = kmedoids_instance.get_clusters()\n",
    "centers = kmedoids_instance.get_medoids()\n",
    "\n",
    "#sort the clusters, in this way we always obtain the same cluster numbers \n",
    "sort_clusters = clusters.copy()\n",
    "sort_clusters.sort(key=len)\n",
    "sort_centers = []\n",
    "for i in np.arange(k):\n",
    "    for j in np.arange(k):\n",
    "        if (sort_clusters[i] == clusters[j]):\n",
    "            sort_centers.append(centers[j])\n",
    "            \n",
    "print(\"training time:\", round(time.time()-t0, 3), \"s\")"
   ]
  },
  {
   "cell_type": "markdown",
   "metadata": {},
   "source": [
    "# Train ML algorithm "
   ]
  },
  {
   "cell_type": "code",
   "execution_count": 14,
   "metadata": {},
   "outputs": [],
   "source": [
    "import xgboost as xgb\n",
    "from sklearn import preprocessing\n",
    "from sklearn.linear_model import LogisticRegression\n",
    "from sklearn.metrics import mean_squared_error"
   ]
  },
  {
   "cell_type": "markdown",
   "metadata": {},
   "source": [
    "Below we define the feature matrix (X) and the lavel vector (y). We also choose the number of clusters k and initialize the first cluster. "
   ]
  },
  {
   "cell_type": "code",
   "execution_count": 15,
   "metadata": {},
   "outputs": [
    {
     "name": "stderr",
     "output_type": "stream",
     "text": [
      "<ipython-input-15-e9bf63b1c235>:7: SettingWithCopyWarning: \n",
      "A value is trying to be set on a copy of a slice from a DataFrame.\n",
      "Try using .loc[row_indexer,col_indexer] = value instead\n",
      "\n",
      "See the caveats in the documentation: https://pandas.pydata.org/pandas-docs/stable/user_guide/indexing.html#returning-a-view-versus-a-copy\n",
      "  data[column] = le.fit_transform(data[column])\n"
     ]
    }
   ],
   "source": [
    "data = df.loc[: , df.columns != 'label']\n",
    "label = df.loc[: , df.columns == 'label']\n",
    "\n",
    "le = preprocessing.LabelEncoder()\n",
    "for column in cat_features:\n",
    "    le.fit(data[column])\n",
    "    data[column] = le.fit_transform(data[column])\n",
    "\n",
    "X_train, X_test, y_train, y_test = train_test_split(data, np.ravel(label), test_size=0.30, random_state=78) # 70% training and 30% test"
   ]
  },
  {
   "cell_type": "markdown",
   "metadata": {},
   "source": [
    "### 1. Logistic Regression  "
   ]
  },
  {
   "cell_type": "code",
   "execution_count": 16,
   "metadata": {},
   "outputs": [
    {
     "name": "stdout",
     "output_type": "stream",
     "text": [
      "correct predictions train set \t 74.28571428571429\n",
      "correct predictions test set \t 73.66666666666667\n",
      "correct predictions total set \t 74.1\n"
     ]
    }
   ],
   "source": [
    "#train logistic regression model and check performance\n",
    "clf = LogisticRegression(random_state=100,max_iter=500).fit(X_train, y_train)\n",
    "clf_predictions_train = clf.predict(X_train)\n",
    "clf_predictions_test = clf.predict(X_test)\n",
    "clf_predictions_total = clf.predict(data)\n",
    "\n",
    "p_correct_train = 1 - (abs(clf_predictions_train-y_train).sum() / len(y_train))\n",
    "p_correct_test = 1 - (abs(clf_predictions_test-y_test).sum() / len(y_test))\n",
    "p_correct_total = 1 - (abs(clf_predictions_total-np.ravel(label)).sum() / len(np.ravel(label)))\n",
    "\n",
    "print('correct predictions train set' ,'\\t', p_correct_train*100)\n",
    "print('correct predictions test set' , '\\t',  p_correct_test*100)\n",
    "print('correct predictions total set' , '\\t', p_correct_total*100)"
   ]
  },
  {
   "cell_type": "markdown",
   "metadata": {},
   "source": [
    "### 2. XGboost classifier "
   ]
  },
  {
   "cell_type": "code",
   "execution_count": 17,
   "metadata": {},
   "outputs": [
    {
     "name": "stdout",
     "output_type": "stream",
     "text": [
      "correct predictions train set \t 91.0\n",
      "correct predictions test set \t 74.0\n",
      "correct predictions total set \t 85.9\n"
     ]
    }
   ],
   "source": [
    "#train XGboost\n",
    "xg_clf = xgb.XGBClassifier(max_depth=5, gamma=1, use_label_encoder=False,eval_metric='error')\n",
    "xg_clf.fit(X_train, y_train)\n",
    "\n",
    "xg_predictions_train = xg_clf.predict(X_train)\n",
    "xg_predictions_test = xg_clf.predict(X_test)\n",
    "xg_predictions_total = xg_clf.predict(data)\n",
    "\n",
    "p_correct_train = 1 - (abs(xg_predictions_train-y_train).sum() / len(y_train))\n",
    "p_correct_test = 1 - (abs(xg_predictions_test-y_test).sum() / len(y_test))\n",
    "p_correct_total = 1 - (abs(xg_predictions_total-np.ravel(label)).sum() / len(np.ravel(label)))\n",
    "\n",
    "print('correct predictions train set' ,'\\t', p_correct_train*100)\n",
    "print('correct predictions test set' , '\\t',  p_correct_test*100)\n",
    "print('correct predictions total set' , '\\t', p_correct_total*100)"
   ]
  },
  {
   "cell_type": "markdown",
   "metadata": {},
   "source": [
    "### 3. Support Vector Machine classifier "
   ]
  },
  {
   "cell_type": "code",
   "execution_count": 18,
   "metadata": {},
   "outputs": [
    {
     "name": "stdout",
     "output_type": "stream",
     "text": [
      "correct predictions train set \t 71.28571428571429\n",
      "correct predictions test set \t 69.66666666666667\n",
      "correct predictions total set \t 70.8\n"
     ]
    }
   ],
   "source": [
    "from sklearn import svm\n",
    "\n",
    "svm_clf = svm.SVC()\n",
    "svm_clf.fit(X_train,y_train)\n",
    "\n",
    "svm_predictions_train = svm_clf.predict(X_train)\n",
    "svm_predictions_test = svm_clf.predict(X_test)\n",
    "svm_predictions_total = svm_clf.predict(data)\n",
    "\n",
    "p_correct_train = 1 - (abs(svm_predictions_train-y_train).sum() / len(y_train))\n",
    "p_correct_test = 1 - (abs(svm_predictions_test-y_test).sum() / len(y_test))\n",
    "p_correct_total = 1 - (abs(svm_predictions_total-np.ravel(label)).sum() / len(np.ravel(label)))\n",
    "\n",
    "print('correct predictions train set' ,'\\t', p_correct_train*100)\n",
    "print('correct predictions test set' , '\\t',  p_correct_test*100)\n",
    "print('correct predictions total set' , '\\t', p_correct_total*100)"
   ]
  },
  {
   "cell_type": "markdown",
   "metadata": {},
   "source": [
    "# 3.a Evaluation of Clustering method "
   ]
  },
  {
   "cell_type": "markdown",
   "metadata": {},
   "source": [
    "## Stability towards initialization "
   ]
  },
  {
   "cell_type": "markdown",
   "metadata": {},
   "source": [
    "We test the stability of the clustering method towards the initialization of the clusters by running the algorithm multiple times for different (random) initializations and compare the final clusters. "
   ]
  },
  {
   "cell_type": "code",
   "execution_count": 19,
   "metadata": {},
   "outputs": [
    {
     "name": "stdout",
     "output_type": "stream",
     "text": [
      "We found  46  different cluster-combination(s) when running the clustering algorithm  100 times\n",
      "mean running time :  7.74354 \t std dev :  0.9292460658561278\n"
     ]
    }
   ],
   "source": [
    "k = 30\n",
    "\n",
    "X = df.loc[: , df.columns != 'label']\n",
    "y = df.loc[: , df.columns == 'label']\n",
    "n = len(X)\n",
    "test_stability = [] \n",
    "test_medoids = []\n",
    "all_clusters = []\n",
    "t_s = 100\n",
    "list_time = []\n",
    "\n",
    "for i in np.arange(t_s):\n",
    "    t0=time.time()\n",
    "    ts_initial_medoids = np.sort(np.random.choice(n,k))\n",
    "    ts_kmedoids_instance = kmedoids(gower_distance(X),ts_initial_medoids,data_type='distance_matrix',iter_max=1000)\n",
    "    ts_kmedoids_instance.process()\n",
    "    ts_clusters = ts_kmedoids_instance.get_clusters()\n",
    "    ts_centers = ts_kmedoids_instance.get_medoids()\n",
    "    if (sorted(ts_clusters) not in test_stability):\n",
    "        test_stability.append(sorted(ts_clusters))\n",
    "        sort_centers = []\n",
    "        for p in np.arange(k):\n",
    "            for q in np.arange(k):\n",
    "                if (sorted(ts_clusters)[p] == ts_clusters[q]):\n",
    "                    sort_centers.append(ts_centers[q])\n",
    "        test_medoids.append(sort_centers)\n",
    "    all_clusters.append(sorted(ts_clusters))\n",
    "    list_time.append(round(time.time()-t0, 3))\n",
    "\n",
    "print('We found ' , len(test_stability) ,' different cluster-combination(s) when running the clustering algorithm ', t_s , 'times')\n",
    "print('mean running time : ', statistics.mean(list_time), '\\t', 'std dev : ' , statistics.stdev(list_time))"
   ]
  },
  {
   "cell_type": "code",
   "execution_count": 20,
   "metadata": {},
   "outputs": [
    {
     "name": "stdout",
     "output_type": "stream",
     "text": [
      "cluster-combination  0  occurs  1  times\n",
      "cluster-combination  1  occurs  5  times\n",
      "cluster-combination  2  occurs  3  times\n",
      "cluster-combination  3  occurs  2  times\n",
      "cluster-combination  4  occurs  3  times\n",
      "cluster-combination  5  occurs  3  times\n",
      "cluster-combination  6  occurs  11  times\n",
      "cluster-combination  7  occurs  2  times\n",
      "cluster-combination  8  occurs  2  times\n",
      "cluster-combination  9  occurs  6  times\n",
      "cluster-combination  10  occurs  2  times\n",
      "cluster-combination  11  occurs  3  times\n",
      "cluster-combination  12  occurs  1  times\n",
      "cluster-combination  13  occurs  5  times\n",
      "cluster-combination  14  occurs  1  times\n",
      "cluster-combination  15  occurs  2  times\n",
      "cluster-combination  16  occurs  7  times\n",
      "cluster-combination  17  occurs  1  times\n",
      "cluster-combination  18  occurs  3  times\n",
      "cluster-combination  19  occurs  3  times\n",
      "cluster-combination  20  occurs  1  times\n",
      "cluster-combination  21  occurs  2  times\n",
      "cluster-combination  22  occurs  4  times\n",
      "cluster-combination  23  occurs  1  times\n",
      "cluster-combination  24  occurs  1  times\n",
      "cluster-combination  25  occurs  1  times\n",
      "cluster-combination  26  occurs  1  times\n",
      "cluster-combination  27  occurs  2  times\n",
      "cluster-combination  28  occurs  2  times\n",
      "cluster-combination  29  occurs  2  times\n",
      "cluster-combination  30  occurs  1  times\n",
      "cluster-combination  31  occurs  1  times\n",
      "cluster-combination  32  occurs  1  times\n",
      "cluster-combination  33  occurs  1  times\n",
      "cluster-combination  34  occurs  1  times\n",
      "cluster-combination  35  occurs  1  times\n",
      "cluster-combination  36  occurs  1  times\n",
      "cluster-combination  37  occurs  1  times\n",
      "cluster-combination  38  occurs  1  times\n",
      "cluster-combination  39  occurs  1  times\n",
      "cluster-combination  40  occurs  2  times\n",
      "cluster-combination  41  occurs  1  times\n",
      "cluster-combination  42  occurs  1  times\n",
      "cluster-combination  43  occurs  1  times\n",
      "cluster-combination  44  occurs  1  times\n",
      "cluster-combination  45  occurs  1  times\n"
     ]
    }
   ],
   "source": [
    "count_combo = 0\n",
    "for combo in test_stability: \n",
    "    count = 0\n",
    "    for item in all_clusters:\n",
    "        if (item == combo):\n",
    "            count += 1 \n",
    "    print('cluster-combination ', count_combo , ' occurs ', count, ' times')\n",
    "    count_combo += 1"
   ]
  },
  {
   "cell_type": "code",
   "execution_count": 13,
   "metadata": {},
   "outputs": [],
   "source": [
    "def compare_cluster_combo(i,j,test_stability):\n",
    "    comb1 = i\n",
    "    comb2 = j\n",
    "    list_same_max = []\n",
    "\n",
    "    for cluster1 in test_stability[comb1]:\n",
    "        list_same_elements = []\n",
    "        for cluster2 in test_stability[comb2]:\n",
    "            count = 0\n",
    "            for element in cluster1:\n",
    "                if (element in cluster2):\n",
    "                    count += 1\n",
    "            list_same_elements.append(count / len(cluster1))\n",
    "        list_same_max.append(max(list_same_elements))\n",
    "    return sum(list_same_max) / len(list_same_max)"
   ]
  },
  {
   "cell_type": "code",
   "execution_count": 14,
   "metadata": {},
   "outputs": [
    {
     "data": {
      "image/png": "[encoded data removed]",
      "text/plain": [
       "<Figure size 432x288 with 2 Axes>"
      ]
     },
     "metadata": {
      "needs_background": "light"
     },
     "output_type": "display_data"
    }
   ],
   "source": [
    "dict_compare_combo = {}\n",
    "\n",
    "for i in np.arange(len(test_stability)):\n",
    "    dict_compare_combo[i] = []\n",
    "    for j in np.arange(len(test_stability)):\n",
    "        if (i == j):\n",
    "            dict_compare_combo[i].append(1)\n",
    "        else:\n",
    "            dict_compare_combo[i].append(compare_cluster_combo(i,j,test_stability))\n",
    "            \n",
    "#show tabel of mean similarity score over all features \n",
    "df_sim = pd.DataFrame.from_dict(dict_compare_combo)\n",
    "ax = sns.heatmap(df_sim, vmin=0.5, vmax=1 , linewidths=0.1 , cmap='Blues'  )"
   ]
  },
  {
   "cell_type": "markdown",
   "metadata": {},
   "source": [
    "If there occurs more than one cluster-combination, set the clusters used for further analysis to the most common cluster (see combination-count above)."
   ]
  },
  {
   "cell_type": "code",
   "execution_count": 21,
   "metadata": {},
   "outputs": [],
   "source": [
    "perturbation = 6 #the most occuring cluster-combination\n",
    "\n",
    "#sort the clusters, in this way we always obtain the same cluster numbers \n",
    "sort_clusters = test_stability[perturbation].copy()\n",
    "sort_clusters.sort(key=len)\n",
    "sort_centers = []\n",
    "for i in np.arange(k):\n",
    "    for j in np.arange(k):\n",
    "        if (sort_clusters[i] == test_stability[perturbation][j]):\n",
    "            sort_centers.append(test_medoids[perturbation][j])\n"
   ]
  },
  {
   "cell_type": "markdown",
   "metadata": {},
   "source": [
    "## Compactness of cluster "
   ]
  },
  {
   "cell_type": "markdown",
   "metadata": {},
   "source": [
    "To compute the compactness of a cluster we arangethe samples within the cluster from closest to the medoid to farthest from the medoid. Next we look at the 10, 20, 30, etc. percent of the cluster closest to the medoid, and for each subset we compute the Gower distance between the farest point and the medoid. "
   ]
  },
  {
   "cell_type": "code",
   "execution_count": 17,
   "metadata": {},
   "outputs": [],
   "source": [
    "def density_cluster(centers,clusters,c_i):\n",
    "    indices = clusters[c_i]\n",
    "    subset = X.loc[indices,:]\n",
    "    medoid = centers[c_i]\n",
    "    number = 1000\n",
    "    for i in np.arange(len(indices)):\n",
    "        if (indices[i] == medoid):\n",
    "            number = i \n",
    "    subset_distance = abs(gower_distance(subset)[number])\n",
    "    subset_distance.sort()\n",
    "    percentage = [1,0.9,0.8,0.7,0.6,0.5,0.4,0.3,0.2,0.1]\n",
    "    mean = []\n",
    "    Max = []\n",
    "    for p in percentage:\n",
    "        n_p = round(len(indices)*p)\n",
    "        if (n_p==0):\n",
    "            mean.append(0)\n",
    "            Max.append(0)\n",
    "        else:\n",
    "            mean.append(subset_distance[:n_p].mean())\n",
    "            Max.append(subset_distance[:n_p].max())\n",
    "    df = pd.DataFrame(list(zip(percentage,mean,Max)),columns=['percentage','mean','max'])\n",
    "    return Max"
   ]
  },
  {
   "cell_type": "code",
   "execution_count": 18,
   "metadata": {},
   "outputs": [
    {
     "data": {
      "text/plain": [
       "<matplotlib.axes._subplots.AxesSubplot at 0x26f4021b070>"
      ]
     },
     "execution_count": 18,
     "metadata": {},
     "output_type": "execute_result"
    },
    {
     "data": {
      "image/png": "[encoded data removed]",
      "text/plain": [
       "<Figure size 432x288 with 1 Axes>"
      ]
     },
     "metadata": {
      "needs_background": "light"
     },
     "output_type": "display_data"
    }
   ],
   "source": [
    "D = {'fraction':[1,0.9,0.8,0.7,0.6,0.5,0.4,0.3,0.2,0.1]}\n",
    "\n",
    "for i in np.arange(len(sort_clusters)):\n",
    "    D[i] = density_cluster(sort_centers,sort_clusters,i)\n",
    "    \n",
    "df_density = pd.DataFrame.from_dict(D)\n",
    "df_density.plot(x='fraction',title='Compactness plot',legend=None)"
   ]
  },
  {
   "cell_type": "markdown",
   "metadata": {},
   "source": [
    "## Similarity between clusters "
   ]
  },
  {
   "cell_type": "markdown",
   "metadata": {},
   "source": [
    "We compute the similarity between two different clusters by comparing the distribution of the features. For all features we compare the fractions of different feature-values, where for numerical features we first disretize the data. \n",
    "A similarity score of 0 means that the feature is completely different distributed in both clusters and a similarity score of 1 means that a feature has the same distribution in two clusters. "
   ]
  },
  {
   "cell_type": "code",
   "execution_count": 19,
   "metadata": {},
   "outputs": [],
   "source": [
    "#similarity for categroical features\n",
    "\n",
    "def similarity_cat(clusters,c_i,c_j,feature):\n",
    "    indices_i = clusters[c_i]\n",
    "    indices_j = clusters[c_j]\n",
    "    subset_i = X.loc[indices_i,:]\n",
    "    subset_j = X.loc[indices_j,:]\n",
    "    \n",
    "    value_list = [] #create list with feature values \n",
    "    for val in subset_i[feature].unique():\n",
    "        value_list.append(val)\n",
    "    for val in subset_j[feature].unique():\n",
    "        if (val not in value_list):\n",
    "            value_list.append(val)\n",
    "    \n",
    "    sim_score = 0\n",
    "    for val in value_list:\n",
    "        if (val in subset_i[feature].unique()):\n",
    "            frac_i = subset_i[feature].value_counts()[val] / len(subset_i[feature])\n",
    "        else:\n",
    "            frac_i = 0\n",
    "        if (val in subset_j[feature].unique()):\n",
    "            frac_j = subset_j[feature].value_counts()[val] / len(subset_j[feature])\n",
    "        else:\n",
    "            frac_j = 0\n",
    "        sim_score += min(frac_i,frac_j)\n",
    "    #print(feature, '\\t', \"%.2f\" % sim_score)\n",
    "    return sim_score"
   ]
  },
  {
   "cell_type": "code",
   "execution_count": 20,
   "metadata": {},
   "outputs": [],
   "source": [
    "#similarity for numerical features\n",
    "\n",
    "def similarity_num(clusters,c_i,c_j,feature):\n",
    "    indices_i = clusters[c_i]\n",
    "    indices_j = clusters[c_j]\n",
    "    subset_i = X.loc[indices_i,:]\n",
    "    subset_j = X.loc[indices_j,:]\n",
    "    \n",
    "    n_i = 10 #number of intervals\n",
    "    Min = min(subset_i[feature].min(),subset_j[feature].min())\n",
    "    Max = max(subset_i[feature].max(),subset_j[feature].max())\n",
    "    rng = np.arange(Min,Max+(Max-Min)/n_i,(Max-Min)/n_i)\n",
    "    \n",
    "    sim_score = 0\n",
    "    for i in np.arange(n_i):\n",
    "        f_i = len(subset_i[(subset_i[feature]<rng[i+1]) & (subset_i[feature]>rng[i])]) / (len(subset_i))\n",
    "        f_j = len(subset_j[(subset_j[feature]<rng[i+1]) & (subset_j[feature]>rng[i])]) / (len(subset_j))\n",
    "        sim_score += min(f_i,f_j)\n",
    "    #print(feature, '\\t', \"%.2f\" % sim_score)\n",
    "    output = sim_score\n",
    "    return output"
   ]
  },
  {
   "cell_type": "code",
   "execution_count": 21,
   "metadata": {},
   "outputs": [
    {
     "data": {
      "image/png": "[encoded data removed]",
      "text/plain": [
       "<Figure size 432x288 with 2 Axes>"
      ]
     },
     "metadata": {
      "needs_background": "light"
     },
     "output_type": "display_data"
    }
   ],
   "source": [
    "dict_sim = {}\n",
    "list_scores = []\n",
    "\n",
    "for c_i in np.arange(len(sort_clusters)):\n",
    "    dict_sim[c_i] = []\n",
    "    for c_j in np.arange(len(sort_clusters)):\n",
    "        list_scores = []\n",
    "        if (c_i == c_j):\n",
    "            dict_sim[c_i].append(1)\n",
    "        else:\n",
    "            for cat_feature in cat_features:\n",
    "                list_scores.append(similarity_cat(sort_clusters,c_i,c_j,cat_feature))\n",
    "            for num_feature in num_features:\n",
    "                list_scores.append(similarity_num(sort_clusters,c_i,c_j,num_feature))\n",
    "            mean_score = statistics.mean(list_scores)\n",
    "            dict_sim[c_i].append(mean_score)\n",
    "            \n",
    "#show tabel of mean similarity score over all features \n",
    "df_sim = pd.DataFrame.from_dict(dict_sim)\n",
    "ax = sns.heatmap(df_sim, vmin=0, vmax=1 , linewidths=0.1 , cmap='Purples'  )"
   ]
  },
  {
   "cell_type": "markdown",
   "metadata": {},
   "source": [
    "For any two clusters we can get more detailed information about their similarity by looking at the feature-wise similarity scores. "
   ]
  },
  {
   "cell_type": "code",
   "execution_count": 22,
   "metadata": {},
   "outputs": [
    {
     "name": "stdout",
     "output_type": "stream",
     "text": [
      "---similarity scores for cluster  3  and  6 ---\n",
      "Sex \t 0.09\n",
      "Job \t 0.49\n",
      "Housing \t 0.03\n",
      "Saving accounts \t 0.92\n",
      "Checking account \t 0.88\n",
      "Purpose \t 0.77\n",
      "Age \t 0.47\n",
      "Credit amount \t 0.42\n",
      "Duration \t 0.41\n"
     ]
    }
   ],
   "source": [
    "#show for 2 given clusters the similarity score by feature\n",
    "cluster_i = 3\n",
    "cluster_j = 6\n",
    "\n",
    "print('---similarity scores for cluster ',cluster_i,' and ',cluster_j,'---')\n",
    "for cat_feature in cat_features:\n",
    "    print(cat_feature, '\\t', \"%.2f\" % similarity_cat(sort_clusters,cluster_i,cluster_j,cat_feature))\n",
    "for num_feature in num_features:\n",
    "    print(num_feature, '\\t', \"%.2f\" % similarity_num(sort_clusters,cluster_i,cluster_j,num_feature))"
   ]
  },
  {
   "cell_type": "markdown",
   "metadata": {},
   "source": [
    "## Variability "
   ]
  },
  {
   "cell_type": "code",
   "execution_count": 22,
   "metadata": {},
   "outputs": [],
   "source": [
    "#compute variability of numerical features\n",
    "def numerical_std(numerical_variable):\n",
    "    name = numerical_variable.name\n",
    "    Vmin = numerical_variable.min()\n",
    "    Vmax = numerical_variable.max()\n",
    "    Vnorm = (numerical_variable-Vmin)/(Vmax-Vmin)\n",
    "    norm_std = statistics.stdev(Vnorm.tolist())\n",
    "    return norm_std"
   ]
  },
  {
   "cell_type": "code",
   "execution_count": 23,
   "metadata": {},
   "outputs": [],
   "source": [
    "#compute variability of categorical features\n",
    "def categorical_variation(categorical_variable):\n",
    "    name = categorical_variable.name\n",
    "    q = categorical_variable.nunique()\n",
    "    n = categorical_variable.count() \n",
    "    values_list = categorical_variable.drop_duplicates().to_list()\n",
    "    if (q==1):\n",
    "        return 0 \n",
    "    else:\n",
    "        frequencies = []\n",
    "        for val in values_list:\n",
    "            f = categorical_variable.value_counts()[val] / n\n",
    "            frequencies.append(f)\n",
    "        f2 = 0\n",
    "        for i in np.arange(q):\n",
    "            f2 += (frequencies[i]**2)\n",
    "        v = 1 - np.sqrt(f2)\n",
    "        v_s = v / (1-1/(np.sqrt(q)))\n",
    "        return v_s"
   ]
  },
  {
   "cell_type": "code",
   "execution_count": 24,
   "metadata": {},
   "outputs": [],
   "source": [
    "#prints variability of a cluster \n",
    "def variability(matrix,clusters,cluster_number):\n",
    "    c_indices = clusters[cluster_number]\n",
    "    matrix_subset = matrix.loc[c_indices,:]\n",
    "    for column in matrix.columns:\n",
    "        if (column in cat_features):\n",
    "            print(column , '\\t', \"%.2f\" % categorical_variation(matrix_subset[column]))\n",
    "        elif (column in num_features):\n",
    "            print(column , '\\t', \"%.2f\" % min(numerical_std(matrix_subset[column])/np.sqrt(1/12),1) )"
   ]
  },
  {
   "cell_type": "code",
   "execution_count": 25,
   "metadata": {},
   "outputs": [],
   "source": [
    "#returns list of variability of a cluster\n",
    "def variability2(matrix,clusters,cluster_number):\n",
    "    c_indices = clusters[cluster_number]\n",
    "    matrix_subset = matrix.loc[c_indices,:]\n",
    "    list_var = []\n",
    "    for column in matrix.columns:\n",
    "        if (column in cat_features):\n",
    "            list_var.append(categorical_variation(matrix_subset[column]))\n",
    "        elif (column in num_features):\n",
    "            list_var.append(min(numerical_std(matrix_subset[column])/np.sqrt(1/12),1))\n",
    "    return list_var"
   ]
  },
  {
   "cell_type": "markdown",
   "metadata": {},
   "source": [
    "Variability plot shows for each cluster the feature-wise variability, where 0 indicates a low variability and 1 a high variability. "
   ]
  },
  {
   "cell_type": "code",
   "execution_count": 26,
   "metadata": {},
   "outputs": [
    {
     "data": {
      "image/png": "[encoded data removed]",
      "text/plain": [
       "<Figure size 432x288 with 2 Axes>"
      ]
     },
     "metadata": {
      "needs_background": "light"
     },
     "output_type": "display_data"
    }
   ],
   "source": [
    "dict_var = {}\n",
    "for i in np.arange(len(sort_clusters)):\n",
    "    dict_var[i] = variability2(X,sort_clusters,i)\n",
    "\n",
    "df_var = pd.DataFrame.from_dict(dict_var, orient='index', columns=all_features)\n",
    "ax = sns.heatmap(df_var, vmin=0, vmax=1 , linewidths=0.1 , cmap='coolwarm'  )"
   ]
  },
  {
   "cell_type": "markdown",
   "metadata": {},
   "source": [
    "We can also print the variability. "
   ]
  },
  {
   "cell_type": "code",
   "execution_count": 30,
   "metadata": {},
   "outputs": [
    {
     "name": "stdout",
     "output_type": "stream",
     "text": [
      "---Variability of cluster  0 ---\n",
      "Age \t 0.93\n",
      "Sex \t 0.38\n",
      "Job \t 0.74\n",
      "Housing \t 0.19\n",
      "Saving accounts \t 0.64\n",
      "Checking account \t 0.62\n",
      "Credit amount \t 1.00\n",
      "Duration \t 0.98\n",
      "Purpose \t 0.56\n",
      "---Variability of cluster  1 ---\n",
      "Age \t 0.80\n",
      "Sex \t 0.10\n",
      "Job \t 0.74\n",
      "Housing \t 0.50\n",
      "Saving accounts \t 0.44\n",
      "Checking account \t 0.28\n",
      "Credit amount \t 0.57\n",
      "Duration \t 0.79\n",
      "Purpose \t 0.56\n",
      "---Variability of cluster  2 ---\n",
      "Age \t 0.81\n",
      "Sex \t 0.56\n",
      "Job \t 0.72\n",
      "Housing \t 0.46\n",
      "Saving accounts \t 0.65\n",
      "Checking account \t 0.44\n",
      "Credit amount \t 0.97\n",
      "Duration \t 0.77\n",
      "Purpose \t 0.62\n",
      "---Variability of cluster  3 ---\n",
      "Age \t 0.85\n",
      "Sex \t 0.00\n",
      "Job \t 0.87\n",
      "Housing \t 0.18\n",
      "Saving accounts \t 0.23\n",
      "Checking account \t 0.48\n",
      "Credit amount \t 0.69\n",
      "Duration \t 0.78\n",
      "Purpose \t 0.64\n",
      "---Variability of cluster  4 ---\n",
      "Age \t 0.92\n",
      "Sex \t 0.00\n",
      "Job \t 0.63\n",
      "Housing \t 0.42\n",
      "Saving accounts \t 0.60\n",
      "Checking account \t 0.48\n",
      "Credit amount \t 1.00\n",
      "Duration \t 0.91\n",
      "Purpose \t 0.56\n",
      "---Variability of cluster  5 ---\n",
      "Age \t 0.95\n",
      "Sex \t 0.00\n",
      "Job \t 0.78\n",
      "Housing \t 0.21\n",
      "Saving accounts \t 0.31\n",
      "Checking account \t 0.21\n",
      "Credit amount \t 0.60\n",
      "Duration \t 1.00\n",
      "Purpose \t 0.66\n",
      "---Variability of cluster  6 ---\n",
      "Age \t 0.86\n",
      "Sex \t 0.29\n",
      "Job \t 0.68\n",
      "Housing \t 0.00\n",
      "Saving accounts \t 0.16\n",
      "Checking account \t 0.62\n",
      "Credit amount \t 0.95\n",
      "Duration \t 1.00\n",
      "Purpose \t 0.37\n",
      "---Variability of cluster  7 ---\n",
      "Age \t 0.84\n",
      "Sex \t 0.14\n",
      "Job \t 0.49\n",
      "Housing \t 0.37\n",
      "Saving accounts \t 0.21\n",
      "Checking account \t 0.50\n",
      "Credit amount \t 0.71\n",
      "Duration \t 1.00\n",
      "Purpose \t 0.28\n",
      "---Variability of cluster  8 ---\n",
      "Age \t 0.90\n",
      "Sex \t 0.33\n",
      "Job \t 0.69\n",
      "Housing \t 0.49\n",
      "Saving accounts \t 0.25\n",
      "Checking account \t 0.39\n",
      "Credit amount \t 0.63\n",
      "Duration \t 1.00\n",
      "Purpose \t 0.27\n",
      "---Variability of cluster  9 ---\n",
      "Age \t 0.61\n",
      "Sex \t 0.26\n",
      "Job \t 0.70\n",
      "Housing \t 0.35\n",
      "Saving accounts \t 0.50\n",
      "Checking account \t 0.31\n",
      "Credit amount \t 0.81\n",
      "Duration \t 0.67\n",
      "Purpose \t 0.43\n",
      "---Variability of cluster  10 ---\n",
      "Age \t 0.84\n",
      "Sex \t 0.00\n",
      "Job \t 0.85\n",
      "Housing \t 0.31\n",
      "Saving accounts \t 0.27\n",
      "Checking account \t 0.27\n",
      "Credit amount \t 0.88\n",
      "Duration \t 0.82\n",
      "Purpose \t 0.34\n",
      "---Variability of cluster  11 ---\n",
      "Age \t 0.76\n",
      "Sex \t 0.13\n",
      "Job \t 0.72\n",
      "Housing \t 0.42\n",
      "Saving accounts \t 0.64\n",
      "Checking account \t 0.25\n",
      "Credit amount \t 0.71\n",
      "Duration \t 0.75\n",
      "Purpose \t 0.15\n",
      "---Variability of cluster  12 ---\n",
      "Age \t 0.73\n",
      "Sex \t 0.00\n",
      "Job \t 0.43\n",
      "Housing \t 0.35\n",
      "Saving accounts \t 0.22\n",
      "Checking account \t 0.13\n",
      "Credit amount \t 0.51\n",
      "Duration \t 0.60\n",
      "Purpose \t 0.13\n",
      "---Variability of cluster  13 ---\n",
      "Age \t 0.72\n",
      "Sex \t 0.00\n",
      "Job \t 0.72\n",
      "Housing \t 0.28\n",
      "Saving accounts \t 0.44\n",
      "Checking account \t 0.18\n",
      "Credit amount \t 0.64\n",
      "Duration \t 0.75\n",
      "Purpose \t 0.29\n",
      "---Variability of cluster  14 ---\n",
      "Age \t 0.86\n",
      "Sex \t 0.00\n",
      "Job \t 0.38\n",
      "Housing \t 0.31\n",
      "Saving accounts \t 0.43\n",
      "Checking account \t 0.27\n",
      "Credit amount \t 0.69\n",
      "Duration \t 0.68\n",
      "Purpose \t 0.56\n",
      "---Variability of cluster  15 ---\n",
      "Age \t 0.78\n",
      "Sex \t 0.17\n",
      "Job \t 0.49\n",
      "Housing \t 0.34\n",
      "Saving accounts \t 0.42\n",
      "Checking account \t 0.19\n",
      "Credit amount \t 0.61\n",
      "Duration \t 0.83\n",
      "Purpose \t 0.30\n",
      "---Variability of cluster  16 ---\n",
      "Age \t 0.83\n",
      "Sex \t 0.06\n",
      "Job \t 0.47\n",
      "Housing \t 0.23\n",
      "Saving accounts \t 0.42\n",
      "Checking account \t 0.58\n",
      "Credit amount \t 0.72\n",
      "Duration \t 0.70\n",
      "Purpose \t 0.61\n",
      "---Variability of cluster  17 ---\n",
      "Age \t 0.76\n",
      "Sex \t 0.00\n",
      "Job \t 0.67\n",
      "Housing \t 0.54\n",
      "Saving accounts \t 0.25\n",
      "Checking account \t 0.31\n",
      "Credit amount \t 0.62\n",
      "Duration \t 0.71\n",
      "Purpose \t 0.23\n",
      "---Variability of cluster  18 ---\n",
      "Age \t 0.68\n",
      "Sex \t 0.34\n",
      "Job \t 0.87\n",
      "Housing \t 0.34\n",
      "Saving accounts \t 0.35\n",
      "Checking account \t 0.00\n",
      "Credit amount \t 0.83\n",
      "Duration \t 0.69\n",
      "Purpose \t 0.22\n",
      "---Variability of cluster  19 ---\n",
      "Age \t 0.73\n",
      "Sex \t 0.28\n",
      "Job \t 0.67\n",
      "Housing \t 0.42\n",
      "Saving accounts \t 0.59\n",
      "Checking account \t 0.48\n",
      "Credit amount \t 0.80\n",
      "Duration \t 0.82\n",
      "Purpose \t 0.35\n"
     ]
    }
   ],
   "source": [
    "for i in np.arange(len(sort_clusters)):\n",
    "    print('---Variability of cluster ',i,'---')\n",
    "    variability(X,sort_clusters,i)"
   ]
  }
 ],
 "metadata": {
  "kernelspec": {
   "display_name": "Python 3",
   "language": "python",
   "name": "python3"
  },
  "language_info": {
   "codemirror_mode": {
    "name": "ipython",
    "version": 3
   },
   "file_extension": ".py",
   "mimetype": "text/x-python",
   "name": "python",
   "nbconvert_exporter": "python",
   "pygments_lexer": "ipython3",
   "version": "3.8.3"
  }
 },
 "nbformat": 4,
 "nbformat_minor": 4
}
